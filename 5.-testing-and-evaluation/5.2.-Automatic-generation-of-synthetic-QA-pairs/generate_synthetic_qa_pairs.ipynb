{
 "cells": [
  {
   "cell_type": "markdown",
   "metadata": {},
   "source": [
    "# Generate synthetic question and answers pairs from a document\n",
    "\n",
    "This code demonstrate how to create questions and answers based on a document.\n",
    "\n",
    "The output is a list of questions and answers from a document.\n",
    "\n",
    "## Prerequisites\n",
    "\n",
    "+ An Azure subscription, with [access to Azure OpenAI](https://aka.ms/oai/access).\n",
    "+ An Azure OpenAI service with the service name and an API key.\n",
    "+ A deployment of the text-embedding-ada-002 embedding model on the Azure OpenAI Service.\n",
    "+ An Azure AI Search service with the end-point, API Key and the index name to create.\n",
    "\n",
    "We used Python 3.12.5, [Visual Studio Code with the Python extension](https://code.visualstudio.com/docs/python/python-tutorial), and the [Jupyter extension](https://marketplace.visualstudio.com/items?itemName=ms-toolsai.jupyter) to test this example.\n",
    "\n",
    "### Set up a Python virtual environment in Visual Studio Code\n",
    "\n",
    "1. Open the Command Palette (Ctrl+Shift+P).\n",
    "1. Search for **Python: Create Environment**.\n",
    "1. Select **Venv**.\n",
    "1. Select a Python interpreter. Choose 3.10 or later.\n",
    "\n",
    "It can take a minute to set up. If you run into problems, see [Python environments in VS Code](https://code.visualstudio.com/docs/python/environments)."
   ]
  },
  {
   "cell_type": "markdown",
   "metadata": {},
   "source": [
    "### Install packages"
   ]
  },
  {
   "cell_type": "code",
   "execution_count": null,
   "metadata": {},
   "outputs": [],
   "source": [
    "! pip install openai"
   ]
  },
  {
   "cell_type": "markdown",
   "metadata": {},
   "source": [
    "## Import packages and create AOAI client"
   ]
  },
  {
   "cell_type": "code",
   "execution_count": 1,
   "metadata": {},
   "outputs": [],
   "source": [
    "import os\n",
    "from dotenv import load_dotenv\n",
    "import json\n",
    "from openai import AzureOpenAI\n",
    "import sys\n",
    "sys.path.append('../..')\n",
    "from rag_utils import load_files, generate_answers_and_questions\n",
    "\n",
    "# Load environment variables from .env\n",
    "load_dotenv(override=True)\n",
    "\n",
    "# AOAI FOR QUESTION&ANSWER PAIRS GENERATION\n",
    "aoai_endpoint = os.environ[\"AZURE_OPENAI_ENDPOINT\"]\n",
    "aoai_apikey = os.environ[\"AZURE_OPENAI_API_KEY\"]\n",
    "aoai_model_name = os.environ[\"AZURE_OPENAI_DEPLOYMENT_NAME\"]\n",
    "# GPT-3.5T\n",
    "#aoai_endpoint = os.environ[\"AZURE_OPENAI_RERANK_ENDPOINT\"]\n",
    "#aoai_apikey = os.environ[\"AZURE_OPENAI_RERANK_API_KEY\"]\n",
    "#aoai_model_name = os.environ[\"AZURE_OPENAI_RERANK_DEPLOYMENT_NAME\"]\n",
    "\n",
    "# Create AOAI client for answer Q&A pairs generation\n",
    "aoai_api_version = '2024-02-15-preview'\n",
    "aoai_client = AzureOpenAI(\n",
    "    azure_deployment=aoai_model_name,\n",
    "    api_version=aoai_api_version,\n",
    "    azure_endpoint=aoai_endpoint,\n",
    "    api_key=aoai_apikey\n",
    ")"
   ]
  },
  {
   "cell_type": "markdown",
   "metadata": {},
   "source": [
    "## Generate synthetic questions and answers from a document"
   ]
  },
  {
   "cell_type": "code",
   "execution_count": 3,
   "metadata": {},
   "outputs": [],
   "source": [
    "from rag_utils import generate_answers_and_questions"
   ]
  },
  {
   "cell_type": "code",
   "execution_count": null,
   "metadata": {},
   "outputs": [],
   "source": [
    "# Test\n",
    "\n",
    "markdown = \"\"\"\n",
    "Descripci\\u00f3n\\n===\\n\\nEste servicio se cerrar\\u00e1 comercialmente el 31 de marzo de 2011\\n\\n||\\n| - |\\n| Definici\\u00f3n |\\n| Servicio de suscripci\\u00f3n que permite al cliente recibir mensajes en el m\\u00f3vil con informaci\\u00f3n sobre los correos recibidos en las cuentas de correo que haya configurado La v\\u00eda de notificaci\\u00f3n por defecto es MMS, pero se puede adaptar a las capacidades de su terminal y realizar el env\\u00edo como wap push o SMS Existen dos servicios 1 Mensaje Mail Express Por cada correo que el cliente reciba en su buz\\u00f3n, se enviar\\u00e1 un mensaje con el contenido de dicho correo - La informaci\\u00f3n que recibir\\u00e1 incluye el remitente, asunto, mensaje original hasta 3 000 caracteres, y la URL para acceder al mensaje por emocion en caso de que fuera necesario ampliar la informaci\\u00f3n No incluye im\\u00e1genes - Este servicio est\\u00e1 disponible para las cuentas de Windows Live Hotmail, Yahoo, Gmail, Terra, Telnet y todas aquellas que tengan habilitado el acceso POP 3/Imap 4 (ej Wanadoo, ?) - Para evitar la recepci\\u00f3n de Mensajes Mail Express con contenido que el cliente no desea, se permite al cliente filtrar la recepci\\u00f3n por: remitente, urgencia, hora de recepci\\u00f3n e incluso d\\u00eda - El precio del servicio solo incluye los correos recibidos Si el cliente desear\\u00e1 responder a un correo recibido se tarificar\\u00e1 a los precios regulares del MMS - El precio del servicio es 2 ? Impuestos Indirectos No Incluidos 2 Mensaje resumen Se produce el env\\u00edo una vez al d\\u00eda con los correos electr\\u00f3nicos recibidos el d\\u00eda anterior en la cuenta o cuentas que tenga configurada/s - Disponible para Hotmail, Yahoo, Terra, Telnet, movistar, y muchas m\\u00e1s (cuentas que permitan un acceso POP3/IMAP4 o la activaci\\u00f3n de un reenv\\u00edo del correo, como Gmail) La informaci\\u00f3n incluye el n? total de mensajes recibidos, remitente, asunto y URL de la direcci\\u00f3n de emocion donde el cliente puede consultar el correo - El precio de suscripci\\u00f3n a este servicio es de 1 euro al mes, impuestos indirectos no incluidos - En cliente puede planificar sus alertas resumen, de manera que pueda determinar cuando quiere recibirlas: - Ma\\u00f1ana (09:00h-10 00h), - Tarde (15:00h-16 00h) - Noche (21:00h-22 00h) |\\n| |\\n| Publico Objetivo |\\n| |\\n| Internautas usuarios habituales de correo electr\\u00f3nico que no deseen pagar un precio elevado por tener el correo en su m\\u00f3vil Segmento Residencial , principalmente de edad comprendida entre los 25 y 35 a\\u00f1os |\\n\\n||\\n| - |\\n| Condiciones/Funcionamiento |\\n| |\\n| Activacion y configuraci\\u00f3n de cuenta |\\n| |\\n| Se habilitan distintos interfaces para la configuraci\\u00f3n y activaci\\u00f3n de la cuenta de correo Desde emocion Hay que entrar en el men\\u00fa wap de e-moci\\u00f3n( wap movistar es) A continuaci\\u00f3n el usuario entrar\\u00e1 en el enlace correspondiente a \\\"Otras cuentas de correo\\\" Ser\\u00e1 necesario que el cliente introduzca los datos b\\u00e1sicos de la cuenta de correo que quiere dar de alta Mail Express o Mensaje Resumen, usuario y contrase\\u00f1a (la cuenta deber\\u00e1 permitir POP3/IMAP4, en caso contrario (por ej, gmail) el sistema le pedir\\u00e1 que active el reenvio autom\\u00e1tico en el servidor Una vez ?movilizada? la cuenta tendr\\u00e1 la opci\\u00f3n de contratar el servicio Mail Express o Mensaje Resumen |\\n| |\\n| Acceso Web |\\n| |\\n| En Internet , en la direcci\\u00f3n www correo movistar es el cliente podr\\u00e1 activar su cuenta de correo, configurar el servicio de suscripci\\u00f3n y acceder a la bandeja de entrada de las cuentas de correo movistar Se solicitar\\u00e1 introducir n? de m\\u00f3vil y una clave de acceso, que es la misma clave utilizada para servicios como Mensajer\\u00eda Multimedia, Mensajer\\u00eda Web, Copiagenda, etc La clave se obtiene enviando un SMS al 22770 con la palabra CLAVE En el caso que sea la primera vez que el cliente entre en la web, le dar\\u00e1 la opci\\u00f3n de ?movilizar? una cuenta de correo, le indicar\\u00e1 que introduzca los datos b\\u00e1sicos de la cuenta y si necesita realizar un reenv\\u00edo autom\\u00e1tico lo indicar\\u00e1 Posteriormente el cliente podr\\u00e1 contratar mail express o mensaje resumen |\\n| |\\n| Acceso Vocal |\\n| |\\n| Se habilitan distintos n\\u00fameros de tel\\u00e9fono para acceder al Servicio vocal, el cliente deber\\u00e1 llamar al 22321 desde un tel\\u00e9fono Movistar o al 629000321 desde cualquier otro tel\\u00e9fono, para contratar el servicio Tras una locuci\\u00f3n se les enviar\\u00e1 un wap push con el proceso de configuraci\\u00f3n de la cuenta |\\n| |\\n| Experiencia de uso - Se detalla la experiencia de uso desde cada uno de los interfaces: Mail Express - El cliente recibe al instante un mensaje multimedia con el contenido del correo que acaba de recibir en su cuenta de correo de Hotmail, yahoo, gmail ? - Este mensaje incluye hasta 3 000 caracteres del mensaje original pero no incorpora ning\\u00fan tipo de adjuntos - El cliente podr\\u00e1 responder a este correo o remitirselo a quien quiera Sin embargo el precio de este mensaje no est\\u00e1 incluido en la cuota del servicio El remitente de estos mensajes de respuesta ser\\u00e1 la cuenta de correo que tenga movilizada ( ejemplo: pepe@terra es) Mensajes Resumen - Todos los d\\u00edas el cliente recibir\\u00e1 un mensaje con el resumen de los correos recibidos en su cuenta de correo en las \\u00faltimas 24 horas Podr\\u00e1 seleccionar el correo y acceder a emocion para ver el contenido del mensaje completo Dispositivos de acceso - El servicio est\\u00e1 disponible para todos los terminales con acceso a emoci\\u00f3n, aunque es deseable que tengan capacidades multimedia |\\n| |\\n| Requisitos T\\u00e9cnicos e Incompatibilidades |\\n| |\\n| Compatible con todos los contratos abiertos comercialmente excepto Contrato Internet Plus y Contrato Internet |\\n| |\\n| C\\u00f3mo se Dispone del Servicio |\\n| |\\n| Para activar el servicio el cliente se puede dar de alta a trav\\u00e9s de los siguientes medios - A trav\\u00e9s de www correomovil movistar es / www correo movistar es - A trav\\u00e9s de emoci\\u00f3n> correo/Chat> moviliza tu cuenta - Llamando a los siguientes n\\u00fameros: - 22321: para altas en cuenta movistar - 223210: altas en cuenta Hotmail - 223211 alta del servicio para cualquier cuenta habilitada El cliente elige su cuenta - 223212: alta en cuenta de yahoo - 223213:alta en cuenta de terra - 223214:alta en cuenta de Telnet Tras llamar a cualquiera de estos n\\u00fameros, el cliente escuchar\\u00e1 una locuci\\u00f3n y si confirma recibe un SMS Push para acceder en navegaci\\u00f3n m\\u00f3vil y dar de alta el servicio |\\n| |\\n\\n||\\n| - |\\n| M\\u00e1s Informaci\\u00f3n |\\n| |\\n| Mail Express: |\\n| |\\n| Direcci\\u00f3n de correo del originante, en MMS 930, 931 y 943 en SMS / Wap Push Mensaje Resumen: 941 y 944 |\\n| |\\n| Cuentas de Correo |\\n| |\\n| Un usuario, con o sin cuenta de Movistar, puede asociar: - 1 cuenta Hotmail - 1 cuenta Yahoo - 1 cuenta Terra - 1 cuenta Telnet - hasta 5 cuentas m\\u00e1s de otro proveedor |\\n\\n||\\n| - |\\n| Beneficios |\\n| Universalidad Permite disponer del correo en cualquier tel\\u00e9fono F\\u00e1cil de provisi\\u00f3n y de uso V\\u00e1lido para los principales proveedores de correo del mercado Instant\\u00e1neo: recibe tu correo al momento en tu m\\u00f3vil |\\nCodificaci\\u00f3n ATOS\\n===\\n\\n||\\n| - |\\n| Visualizaci\\u00f3n y Codificaci\\u00f3n en ATOS |\\n| |\\n| MS Empresas: Servicios / Transmisi\\u00f3n de Datos / Correo M\\u00f3vil Residencial: Servicios/Correo Electr\\u00f3nico/Correo M\\u00f3vil |\\n| |\\nCoste\\n===\\n\\n||\\n| - |\\n| Coste |\\n| Mail Express 2?/mes Mensajes Resumen: 1?/mes Mensajes de respuesta a email: precio regular del MMS Accesos a emoci\\u00f3n Precios regulares de emoci\\u00f3n Consulta de correo a trav\\u00e9s de una llamada al 22321: 0,005 euros/seg Establecimiento de llamada: 0,15 euros Impuestos Indirectos No Incluidos |\\nComplemento\\n===\\n\\n||\\n| - |\\n| Periodo de Vigencia |\\n| |\\n| Este servicio se cerrar\\u0102\\u00a1 comercialmente el 31 de marzo de 2011 |\\nComplemento\\n===\\n\\n||\\n| - |\\n| Operativa |\\n| |\\n| MS Empresas: |\\n| |\\n| Pincha aqu\\u00ed para ver Operativa Baja Pincha aqu\\u00ed para ver Operativa de Incidencias Pincha aqu\\u00ed para ver Operativa de Configuraci\\u00f3n |\\n| |\\n| MS Plus/ Activa: |\\n| |\\n| Pincha aqu\\u00ed para ver Operativa baja Pincha aqu\\u00ed para ver Operativa incidencia Pincha aqu\\u00ed para ver Operativa de Configuraci\\u00f3n |\\n\n",
    "\"\"\"\n",
    "\n",
    "qa_pairs = generate_answers_and_questions(aoai_client, aoai_model_name, markdown)\n",
    "\n",
    "print(qa_pairs)"
   ]
  },
  {
   "cell_type": "markdown",
   "metadata": {},
   "source": [
    "## Create the Excel file with question and answer pairs to evaluate the answers generated"
   ]
  },
  {
   "cell_type": "code",
   "execution_count": null,
   "metadata": {},
   "outputs": [],
   "source": [
    "import pandas as pd\n",
    "\n",
    "input_dir = '../../data_out/markdown_files'\n",
    "markdown_contents = load_files(input_dir, '.txt')\n",
    "data = {'question': [],\n",
    "        'answer': []\n",
    "}\n",
    "for i, markdown_content in enumerate(markdown_contents):\n",
    "    print(f\"[{i + 1}]: title: {markdown_content['title']}\")\n",
    "    #print(f\"\\t content: [{markdown_content['content']}]\")\n",
    "    title = markdown_content['title'].replace('.txt', '')\n",
    "    markdown = markdown_content['content']\n",
    "    qa_pairs = generate_answers_and_questions(aoai_client, aoai_model_name, title + '. ' + markdown)\n",
    "    for qa in qa_pairs:\n",
    "        data['question'].append(qa['question'])\n",
    "        data['answer'].append(qa['answer'])\n",
    "\n",
    "# Save questions and answers pairs in an Excel file\n",
    "df = pd.DataFrame(data)\n",
    "output_dir = '../data_out'\n",
    "os.makedirs(output_dir,exist_ok=True)\n",
    "output_file = output_dir + '/qa_pairs.xlsx'\n",
    "df.to_excel(output_file, index=False)\n",
    "print(f'File {output_file} saved')\n"
   ]
  }
 ],
 "metadata": {
  "kernelspec": {
   "display_name": "Python 3",
   "language": "python",
   "name": "python3"
  },
  "language_info": {
   "codemirror_mode": {
    "name": "ipython",
    "version": 3
   },
   "file_extension": ".py",
   "mimetype": "text/x-python",
   "name": "python",
   "nbconvert_exporter": "python",
   "pygments_lexer": "ipython3",
   "version": "3.12.8"
  }
 },
 "nbformat": 4,
 "nbformat_minor": 2
}
