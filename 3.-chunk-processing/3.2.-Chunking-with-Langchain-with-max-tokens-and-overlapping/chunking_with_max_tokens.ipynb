{
 "cells": [
  {
   "cell_type": "markdown",
   "metadata": {},
   "source": [
    "# Chunking text with a maximum number of tokens and a percentage of overlapping\n",
    "\n",
    "This code demonstrate how to use Langchain with tiktoken technique to chunk content with a maximum number of tokens (i.e. 512 or 1024) and with a percentage of overlapping between chunks.\n",
    "\n",
    "This notebook is based on this article from Langchain: https://python.langchain.com/v0.1/docs/modules/data_connection/document_transformers/split_by_token/#tiktoken\n",
    "\n",
    "The output is the chunks created from a long text to be vectorized and indexed \n",
    "\n",
    "## Prerequisites\n",
    "\n",
    "We used Python 3.12.5, [Visual Studio Code with the Python extension](https://code.visualstudio.com/docs/python/python-tutorial), and the [Jupyter extension](https://marketplace.visualstudio.com/items?itemName=ms-toolsai.jupyter) to test this example.\n",
    "\n",
    "### Set up a Python virtual environment in Visual Studio Code\n",
    "\n",
    "1. Open the Command Palette (Ctrl+Shift+P).\n",
    "1. Search for **Python: Create Environment**.\n",
    "1. Select **Venv**.\n",
    "1. Select a Python interpreter. Choose 3.10 or later.\n",
    "\n",
    "It can take a minute to set up. If you run into problems, see [Python environments in VS Code](https://code.visualstudio.com/docs/python/environments)."
   ]
  },
  {
   "cell_type": "markdown",
   "metadata": {},
   "source": [
    "### Install packages"
   ]
  },
  {
   "cell_type": "code",
   "execution_count": null,
   "metadata": {},
   "outputs": [],
   "source": [
    "! pip install --upgrade --quiet langchain-text-splitters tiktoken"
   ]
  },
  {
   "cell_type": "markdown",
   "metadata": {},
   "source": [
    "## Import packages and create Langchain's text splitter client"
   ]
  },
  {
   "cell_type": "code",
   "execution_count": 1,
   "metadata": {},
   "outputs": [],
   "source": [
    "import os\n",
    "import sys\n",
    "\n",
    "sys.path.append('../..')\n",
    "from rag_utils import load_files, token_len\n",
    "\n",
    "# CONSTANTS\n",
    "MAX_CHUNK_TOKEN_SIZE = 512 # Max number of tokens for chunking\n",
    "CHUNK_OVERLAPPING=0.25 # 25% of overlapping between chunks"
   ]
  },
  {
   "cell_type": "markdown",
   "metadata": {},
   "source": [
    "## Chunking with Langchain and tiktoken"
   ]
  },
  {
   "cell_type": "code",
   "execution_count": 2,
   "metadata": {},
   "outputs": [],
   "source": [
    "from rag_utils import chunk_with_max_tokens"
   ]
  },
  {
   "cell_type": "code",
   "execution_count": null,
   "metadata": {},
   "outputs": [],
   "source": [
    "# Sample: chunking a document in markdown format\n",
    "text = \"\"\"\n",
    "Descripción: Ayuda Elypse\n",
    "===\n",
    "||\n",
    "| - |\n",
    "| Apartados que cambian Descripción del cambio Fecha entrada en vigor Fecha actualización del documento Lanzamiento promoción 23/06/2020 24/06/2020 |\n",
    "| |\n",
    "| 1 1 ¿En qué consiste la promoción? |\n",
    "| |\n",
    "| La Liga y Mediapro han llegado a un acuerdo con los operadores para que puedan ofrecer el fútbol gratis (Canal La Liga TV) en las residencias de ancianos Telefónica participa de este acuerdo dando a las residencias un producto con los mismos contenidos que el de BAR pero a un precio mucho más competitivo Al cliente le hablamos de un producto para residencias a un precio muy competitivo y con el canal LaLiga TV gratis, no de una promoción sobre el producto BAR A quién aplica: Residencias de ancianos (incluidas en el códidgo CNAE 8731 -asistencia en establecimientos residenciales para personas mayores-) que llamen para solicitar el fútbol gratuito en sus residencias (zonas comunes y cafetería) También para residencias que tengan el producto BAR instalado en la cafetería o zona común y soliciten el fútbol gratis Cuando llame al 1004 o acuda a una tienda el responsable de una residencia de ancianos para solicitar el producto, derivar siempre la demanda a su comercial o al 900 26 22 62 El PVP del producto es de 112 al mes IVA incluido (pese a que el fútbol -LIGA TV- es gratis, el producto tiene otros contenidos que sí tienen un coste) hasta el 31 de agosto de 2020 |\n",
    "| |\n",
    "| Asegura siempre |\n",
    "| |\n",
    "| Informa al cliente de que esta promoción será válida solo para residencias de ancianos; aquellas incluidas en el código CNAE 8731 Se harán comprobaciones antes y después de instalar el equipo |\n",
    "| |\n",
    "| Contratación y disfrute |\n",
    "| |\n",
    "| Fechas de contratación Fechas o periodo de disfrute Desde 23/06/2020 Hasta 31/08/2020 Hasta el 31 de agosto |\n",
    "| |\n",
    "| |\n",
    "| 1 2 ¿A quién va dirigida? |\n",
    "| |\n",
    "| Residencias de ancianos Solo disponible en tecnologí­a 1P SAT Segmento del cliente: Autónomos Empresas |\n",
    "| |\n",
    "| |\n",
    "| 1 3 Incompatibilidades |\n",
    "| |\n",
    "| No aplica |\n",
    "| |\n",
    "| |\n",
    "| 1 4 Canales de Venta |\n",
    "| |\n",
    "| Otros Instaladores DTS y Digitex |\n",
    "| |\n",
    "| |\n",
    "| 1 5 Comunicación |\n",
    "| |\n",
    "| Campañas en Medios Otros soportes de comunicación N/A N/A |\n",
    "| |\n",
    "| |\n",
    "| 1 6 Mantenimiento de la promoción |\n",
    "| |\n",
    "| No aplica |\n",
    "| |\n",
    "| |\n",
    "| 1 7 Compromiso de la promoción y movimientos con penalización |\n",
    "| |\n",
    "| No aplica |\n",
    "| |\n",
    "| |\n",
    "| 1 8 Hitos de la promoción (detallados) |\n",
    "| |\n",
    "| Fecha Descripción 23/06/2020 Lanzamiento promoción Residencias de ancianos 112 al mes hasta el 31 de agosto de 2020 |\n",
    "| |\n",
    ". \n",
    "Argumentación: Ayuda Elypse\n",
    "===\n",
    "# 2 Argumentación\n",
    "||\n",
    "| - |\n",
    "| CLAIM COMERCIAL: Para clientes que soliciten el nuevo producto para residencias de ancianos Movistar es consciente de la situación que se ha generando y lo impactadas que se han visto las residencias de ancianos Por eso quiere ofrecer un producto de difusión pública con las mejores condiciones posibles Para que nuestros mayores puedan disfrutar del fútbol |\n",
    "| |\n",
    ". \n",
    "Precios y Factura: ERROR DOC INTEL. \n",
    "Tramitación: Ayuda Elypse\n",
    "===\n",
    "# 4 Tramitación\n",
    "\n",
    "4 1 Tramitación TELCO\n",
    "No aplica, ya que estos productos no están disponibles en Telco\n",
    "\n",
    "4 2 Tramitación no TELCO\n",
    "No aplica\n",
    "\"\"\"\n",
    "\n",
    "print(f'total tokens: {token_len(text)}')\n",
    "\n",
    "# Chunking with Langchain\n",
    "chunks = chunk_with_max_tokens(text, max_tokens=MAX_CHUNK_TOKEN_SIZE, overlap=CHUNK_OVERLAPPING)\n",
    "\n",
    "i=1\n",
    "for chunk in chunks:\n",
    "    print(f'* Chunk {i}, num. tokens: {token_len(chunk)},\\nchunk: [{chunk}]')\n",
    "    print('---------------------------------------------------------------------')\n",
    "    i+=1\n",
    "print(f'total number of chunks: {i-1}')"
   ]
  },
  {
   "cell_type": "markdown",
   "metadata": {},
   "source": [
    "## Chunk every txt file in the input directory and write them in the output directory"
   ]
  },
  {
   "cell_type": "code",
   "execution_count": null,
   "metadata": {},
   "outputs": [],
   "source": [
    "# Chunk markdown files and write the chunks as files in the output directory\n",
    "input_dir = '../../data_out/markdown_files'\n",
    "output_dir = '../../data_out/chunk_files'\n",
    "os.makedirs(output_dir,exist_ok=True)\n",
    "markdown_contents = load_files(input_dir, '.txt')\n",
    "\n",
    "for i, markdown_content in enumerate(markdown_contents):\n",
    "    print(f\"[{i + 1}]: title: {markdown_content['title']}\")\n",
    "    print(f\"\\t content: [{markdown_content['content']}]\")\n",
    "\n",
    "    chunks = chunk_with_max_tokens(markdown_content['content'], max_tokens=MAX_CHUNK_TOKEN_SIZE, overlap=CHUNK_OVERLAPPING)\n",
    "    # Write every chunk in a file in the output directory\n",
    "    for j, chunk in enumerate(chunks):\n",
    "        print(f'* Chunk {j + 1}, num. tokens: {token_len(chunk)},\\nchunk: [{chunk}]')\n",
    "        chunk_filename = markdown_content['title'].replace(\".txt\", f\"_{j}.txt\")\n",
    "        file_path = os.path.join(output_dir, chunk_filename)\n",
    "        print(f\"\\tWritting file [{file_path}]\")\n",
    "        with open(file_path, \"w\", encoding=\"utf-8\") as f:\n",
    "            f.write(chunk)\n"
   ]
  }
 ],
 "metadata": {
  "kernelspec": {
   "display_name": "Python 3",
   "language": "python",
   "name": "python3"
  },
  "language_info": {
   "codemirror_mode": {
    "name": "ipython",
    "version": 3
   },
   "file_extension": ".py",
   "mimetype": "text/x-python",
   "name": "python",
   "nbconvert_exporter": "python",
   "pygments_lexer": "ipython3",
   "version": "3.12.6"
  }
 },
 "nbformat": 4,
 "nbformat_minor": 2
}
