{
 "cells": [
  {
   "cell_type": "markdown",
   "metadata": {},
   "source": [
    "# Search for duplicate documents to identify low-value content\n",
    "\n",
    "This code demonstrate how to use a vector search to search duplicate documents.\n",
    "Before using this notebook the index has to be created and documents has to be indexed, with the notebook [create_index_and_index_documents](../../4.-search-and-retrieval/4.1.-create-index-and-index-documents/create_index_and_index_documents.ipynb).\n",
    "\n",
    "The output is the list of documents with a percentage of semantic similitude.\n",
    "\n",
    "## Prerequisites\n",
    "\n",
    "+ An Azure subscription, with [access to Azure OpenAI](https://aka.ms/oai/access).\n",
    "+ An Azure OpenAI service with the service name and an API key.\n",
    "+ A deployment of the text-embedding-ada-002 embedding model on the Azure OpenAI Service.\n",
    "+ An Azure AI Search service with the end-point, API Key and the index name.\n",
    "\n",
    "We used Python 3.12.5, [Visual Studio Code with the Python extension](https://code.visualstudio.com/docs/python/python-tutorial), and the [Jupyter extension](https://marketplace.visualstudio.com/items?itemName=ms-toolsai.jupyter) to test this example.\n",
    "\n",
    "### Set up a Python virtual environment in Visual Studio Code\n",
    "\n",
    "1. Open the Command Palette (Ctrl+Shift+P).\n",
    "1. Search for **Python: Create Environment**.\n",
    "1. Select **Venv**.\n",
    "1. Select a Python interpreter. Choose 3.10 or later.\n",
    "\n",
    "It can take a minute to set up. If you run into problems, see [Python environments in VS Code](https://code.visualstudio.com/docs/python/environments)."
   ]
  },
  {
   "cell_type": "markdown",
   "metadata": {},
   "source": [
    "### Install packages"
   ]
  },
  {
   "cell_type": "code",
   "execution_count": null,
   "metadata": {},
   "outputs": [],
   "source": [
    "! pip install openai\n",
    "! pip install azure-search-documents"
   ]
  },
  {
   "cell_type": "markdown",
   "metadata": {},
   "source": [
    "## Import packages and create AOAI client"
   ]
  },
  {
   "cell_type": "code",
   "execution_count": 1,
   "metadata": {},
   "outputs": [],
   "source": [
    "import os\n",
    "import time\n",
    "from dotenv import load_dotenv\n",
    "import json\n",
    "from openai import AzureOpenAI\n",
    "from azure.core.credentials import AzureKeyCredential\n",
    "from azure.search.documents import SearchClient\n",
    "from azure.search.documents.models import VectorizedQuery, SearchScoreThreshold\n",
    "import sys\n",
    "sys.path.append('../..')\n",
    "from rag_utils import cut_max_tokens\n",
    "\n",
    "# Load environment variables from .env\n",
    "load_dotenv(override=True)\n",
    "\n",
    "# AZURE AI SEARCH\n",
    "ai_search_endpoint = os.environ[\"SEARCH_SERVICE_ENDPOINT\"]\n",
    "ai_search_apikey = os.environ[\"SEARCH_SERVICE_QUERY_KEY\"]\n",
    "ai_search_index_name = os.environ[\"SEARCH_INDEX_NAME\"]\n",
    "ai_search_credential = AzureKeyCredential(ai_search_apikey)\n",
    "# Create AI Search client \n",
    "ai_search_client = SearchClient(endpoint=ai_search_endpoint, index_name=ai_search_index_name, credential=ai_search_credential)\n",
    "\n",
    "# AZURE OPENAI FOR EMBEDDING\n",
    "aoai_embedding_endpoint = os.environ[\"AZURE_OPENAI_EMBEDDING_ENDPOINT\"]\n",
    "azure_openai_embedding_key = os.environ[\"AZURE_OPENAI_EMBEDDING_API_KEY\"]\n",
    "embedding_model_name = os.environ[\"AZURE_OPENAI_EMBEDDING_NAME_ADA\"]\n",
    "# Create AOAI client for embedding creation (ADA)\n",
    "aoai_api_version = '2024-02-15-preview'\n",
    "aoai_embedding_client = AzureOpenAI(\n",
    "    azure_deployment=embedding_model_name,\n",
    "    api_version=aoai_api_version,\n",
    "    azure_endpoint=aoai_embedding_endpoint,\n",
    "    api_key=azure_openai_embedding_key\n",
    ")\n"
   ]
  },
  {
   "cell_type": "markdown",
   "metadata": {},
   "source": [
    "## Vector search of document to identity duplicates\n",
    "** NOTE: ** Create first the index and upload documents with 'create_index_and_index_documents.ipynb'"
   ]
  },
  {
   "cell_type": "code",
   "execution_count": null,
   "metadata": {},
   "outputs": [],
   "source": [
    "def vector_search(query: str, threshold):\n",
    "    embedding = aoai_embedding_client.embeddings.create(input=query, model=embedding_model_name).data[0].embedding\n",
    "    vector_query = VectorizedQuery(\n",
    "        vector=embedding, \n",
    "        k_nearest_neighbors=2, \n",
    "        fields=\"embeddingContent\", \n",
    "        #exhaustive=True, \n",
    "        threshold=SearchScoreThreshold(value=threshold))\n",
    "    \n",
    "    try:\n",
    "        results = ai_search_client.search(\n",
    "            search_text=None,  \n",
    "            vector_queries=[vector_query],\n",
    "            select=\"id, title, content\",\n",
    "            include_total_count=True,\n",
    "            top=2\n",
    "            )\n",
    "        return results, results.get_count()\n",
    "\n",
    "    except Exception as ex:\n",
    "        print(ex)\n",
    "        results = None\n",
    "        return results, 0\n",
    "\n",
    "# Read the file with every JSON record\n",
    "fileinput = 'docs_duplicates.json'\n",
    "print(f'Loading file {fileinput}...')\n",
    "with open(fileinput, encoding='utf-8') as file:\n",
    "    data = json.load(file)\n",
    "\n",
    "# Search every record by content to find duplicates\n",
    "for i, reg in enumerate(data):    \n",
    "    print(f'[{i + 1}]: id {reg[\"id\"]}, title: {reg[\"title\"]}')\n",
    "    content = reg[\"content\"]\n",
    "    \n",
    "    # Vector search by the field \"content\" with 97% of similarity\n",
    "    results, count = vector_search(cut_max_tokens(content), threshold=0.97)\n",
    "    if results != None:\n",
    "        if count > 1:\n",
    "            print(f\"\\tnum results: {results.get_count()}\")\n",
    "            for result in results:\n",
    "                if str(reg['id']).strip() != result['id'].strip(): # Si no se ha encontrado a sí mismo\n",
    "                    print(f\"\\t*** DUPLICATE DOCUMENT ** id {reg[\"id\"]}, title: {reg[\"title\"]} --> id: {result['id']}, title: {result['title']}\")\n",
    "    time.sleep(1)\n"
   ]
  }
 ],
 "metadata": {
  "kernelspec": {
   "display_name": "Python 3",
   "language": "python",
   "name": "python3"
  },
  "language_info": {
   "codemirror_mode": {
    "name": "ipython",
    "version": 3
   },
   "file_extension": ".py",
   "mimetype": "text/x-python",
   "name": "python",
   "nbconvert_exporter": "python",
   "pygments_lexer": "ipython3",
   "version": "3.12.6"
  }
 },
 "nbformat": 4,
 "nbformat_minor": 2
}
