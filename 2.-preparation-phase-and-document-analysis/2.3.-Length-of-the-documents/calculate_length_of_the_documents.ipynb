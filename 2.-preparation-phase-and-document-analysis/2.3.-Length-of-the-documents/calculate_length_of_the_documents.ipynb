{
 "cells": [
  {
   "cell_type": "code",
   "execution_count": 5,
   "metadata": {},
   "outputs": [],
   "source": [
    "# Import necessary libraries \n",
    "import json\n",
    "import os\n",
    "import pandas as pd\n",
    "import matplotlib.pyplot as plt\n",
    "import sys\n",
    "sys.path.append('../..')\n",
    "from rag_utils import token_len, load_files"
   ]
  },
  {
   "cell_type": "code",
   "execution_count": null,
   "metadata": {},
   "outputs": [],
   "source": [
    "# Load markdown files converted from HTML files\n",
    "input_dir = '../../data_out/markdown_files'\n",
    "markdown_contents = load_files(input_dir, '.txt')\n",
    "\n",
    "token_counts = []\n",
    "for i, markdown_content in enumerate(markdown_contents):\n",
    "    num_tokens = token_len(markdown_content['content'])\n",
    "    print(f\"[{i + 1}]: title: {markdown_content['title']}, tokens: {num_tokens}\")\n",
    "    token_counts.append(num_tokens)\n"
   ]
  },
  {
   "cell_type": "code",
   "execution_count": null,
   "metadata": {},
   "outputs": [],
   "source": [
    "# Count documents with 0 tokens\n",
    "zero_token_docs = sum(1 for count in token_counts if count == 0)  \n",
    "print(f\"Number of documents with 0 tokens: {zero_token_docs}\")  \n",
    "\n",
    "# Count documents with more than 10,000 tokens  \n",
    "high_token_docs = sum(1 for count in token_counts if count > 10000)  \n",
    "print(f\"Number of documents with more than 10,000 tokens: {high_token_docs}\") "
   ]
  },
  {
   "cell_type": "code",
   "execution_count": null,
   "metadata": {},
   "outputs": [],
   "source": [
    "# Display basic statistics  \n",
    "print(f\"Total documents: {len(token_counts)}\")  \n",
    "print(f\"Average number of tokens: {sum(token_counts) / len(token_counts):.2f}\")  \n",
    "print(f\"Minimum number of tokens: {min(token_counts)}\")  \n",
    "print(f\"Maximum number of tokens: {max(token_counts)}\")  "
   ]
  },
  {
   "cell_type": "code",
   "execution_count": 9,
   "metadata": {},
   "outputs": [
    {
     "data": {
      "image/png": "[encoded data removed]",
      "text/plain": [
       "<Figure size 1000x600 with 1 Axes>"
      ]
     },
     "metadata": {},
     "output_type": "display_data"
    }
   ],
   "source": [
    "# Plot the distribution of token counts  \n",
    "plt.figure(figsize=(10, 6))  \n",
    "plt.hist(token_counts, bins=10, edgecolor='k', alpha=0.7)  \n",
    "plt.title('Distribution of Token Counts in Documents')  \n",
    "plt.xlabel('Number of Tokens')  \n",
    "plt.ylabel('Frequency')  \n",
    "plt.grid(axis='y', alpha=0.75)  \n",
    "plt.show() "
   ]
  },
  {
   "cell_type": "code",
   "execution_count": null,
   "metadata": {},
   "outputs": [],
   "source": [
    "# Count documents with fewer than specific numbers of tokens  \n",
    "count_50 = sum(1 for doc in token_counts if doc < 50)  \n",
    "count_100 = sum(1 for doc in token_counts if doc < 100)  \n",
    "count_150 = sum(1 for doc in token_counts if doc < 150)  \n",
    "count_200 = sum(1 for doc in token_counts if doc < 200)  \n",
    "count_300 = sum(1 for doc in token_counts if doc < 300)  \n",
    "count_400 = sum(1 for doc in token_counts if doc < 400)  \n",
    "count_500 = sum(1 for doc in token_counts if doc < 500)  \n",
    "count_512 = sum(1 for doc in token_counts if doc < 512)  \n",
    "count_600 = sum(1 for doc in token_counts if doc < 600)  \n",
    "  \n",
    "# Print the results  \n",
    "print(f'There are {count_50} documents with fewer than 50 tokens.')  \n",
    "print(f'There are {count_100} documents with fewer than 100 tokens.')  \n",
    "print(f'There are {count_150} documents with fewer than 150 tokens.')  \n",
    "print(f'There are {count_200} documents with fewer than 200 tokens.')  \n",
    "print(f'There are {count_300} documents with fewer than 300 tokens.')  \n",
    "print(f'There are {count_400} documents with fewer than 400 tokens.')  \n",
    "print(f'There are {count_500} documents with fewer than 500 tokens.')  \n",
    "print(f'There are {count_512} documents with fewer than 512 tokens.')  \n",
    "print(f'There are {count_600} documents with fewer than 600 tokens.')  "
   ]
  },
  {
   "cell_type": "code",
   "execution_count": null,
   "metadata": {},
   "outputs": [],
   "source": [
    "# Collect the counts in a DataFrame  \n",
    "counts_df = pd.DataFrame({  \n",
    "    'Description': [  \n",
    "        'Documents with fewer than 50 tokens',  \n",
    "        'Documents with fewer than 100 tokens',  \n",
    "        'Documents with fewer than 150 tokens',  \n",
    "        'Documents with fewer than 200 tokens',  \n",
    "        'Documents with fewer than 300 tokens',  \n",
    "        'Documents with fewer than 400 tokens',  \n",
    "        'Documents with fewer than 500 tokens',  \n",
    "        'Documents with fewer than 512 tokens',  \n",
    "        'Documents with fewer than 600 tokens'  \n",
    "    ],  \n",
    "    'Count': [  \n",
    "        count_50, count_100, count_150, count_200, count_300,   \n",
    "        count_400, count_500, count_512, count_600  \n",
    "    ]  \n",
    "})\n",
    "\n",
    "# Define the bins and labels  \n",
    "bins = [0, 512, 1000, 2000, float('inf')]  \n",
    "labels = [\"0-511\", \"512-999\", \"1000-1999\", \"2000+\"] \n",
    "\n",
    "# Create a DataFrame and categorize the token counts  \n",
    "df = pd.DataFrame({'token_counts': token_counts})  \n",
    "df['range'] = pd.cut(df['token_counts'], bins=bins, labels=labels, right=False)  \n",
    "  \n",
    "# Count the number of documents in each range  \n",
    "range_counts = df['range'].value_counts().sort_index()  \n",
    "  \n",
    "# Convert to DataFrame for better display  \n",
    "range_counts_df = range_counts.reset_index()  \n",
    "range_counts_df.columns = ['Token Range', 'Document Count']  \n",
    "  \n",
    "# Concatenate the two DataFrames vertically  \n",
    "combined_df = pd.concat([counts_df, range_counts_df], ignore_index=True)  \n",
    "  \n",
    "# Export the combined DataFrame to CSV  \n",
    "csv_file_path = 'token_ranges_combined.csv'  \n",
    "combined_df.to_csv(csv_file_path, index=False)  \n",
    "print(f'Table exported to {csv_file_path}')  "
   ]
  }
 ],
 "metadata": {
  "kernelspec": {
   "display_name": "Python 3",
   "language": "python",
   "name": "python3"
  },
  "language_info": {
   "codemirror_mode": {
    "name": "ipython",
    "version": 3
   },
   "file_extension": ".py",
   "mimetype": "text/x-python",
   "name": "python",
   "nbconvert_exporter": "python",
   "pygments_lexer": "ipython3",
   "version": "3.12.6"
  }
 },
 "nbformat": 4,
 "nbformat_minor": 2
}
